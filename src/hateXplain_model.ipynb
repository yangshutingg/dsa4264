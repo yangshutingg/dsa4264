{
 "cells": [
  {
   "cell_type": "code",
   "execution_count": null,
   "metadata": {},
   "outputs": [],
   "source": [
    "# Install necessary libraries\n",
    "# !pip install pandas transformers torch "
   ]
  },
  {
   "cell_type": "code",
   "execution_count": 11,
   "metadata": {},
   "outputs": [],
   "source": [
    "import pandas as pd\n",
    "from transformers import AutoTokenizer\n",
    "import torch"
   ]
  },
  {
   "cell_type": "markdown",
   "metadata": {},
   "source": [
    "# Load HateXplain model"
   ]
  },
  {
   "cell_type": "code",
   "execution_count": 6,
   "metadata": {},
   "outputs": [],
   "source": [
    "import sys\n",
    "\n",
    "file_directory = '../../'\n",
    "sys.path.append(file_directory)\n",
    "\n",
    "from models import *"
   ]
  },
  {
   "cell_type": "code",
   "execution_count": 9,
   "metadata": {},
   "outputs": [],
   "source": [
    "# Load the hatXplain model and tokenizer from Hugging Face\n",
    "tokenizer = AutoTokenizer.from_pretrained(\"Hate-speech-CNERG/bert-base-uncased-hatexplain-rationale-two\")\n",
    "model = Model_Rational_Label.from_pretrained(\"Hate-speech-CNERG/bert-base-uncased-hatexplain-rationale-two\",\n",
    "                                             attn_implementation=\"eager\")"
   ]
  },
  {
   "cell_type": "code",
   "execution_count": null,
   "metadata": {},
   "outputs": [],
   "source": [
    "# Check if CUDA is available for GPU acceleration\n",
    "device = torch.device('cuda' if torch.cuda.is_available() else 'cpu')\n",
    "model.to(device)"
   ]
  },
  {
   "cell_type": "markdown",
   "metadata": {},
   "source": [
    "# Function to get toxicity scores"
   ]
  },
  {
   "cell_type": "code",
   "execution_count": null,
   "metadata": {},
   "outputs": [],
   "source": [
    "# Define a function to get toxicity scores\n",
    "def get_toxicity_score(text):\n",
    "    inputs = tokenizer(text, return_tensors=\"pt\", padding=True, truncation=True).to(device)\n",
    "    with torch.no_grad():\n",
    "        outputs = model(**inputs)\n",
    "        logits = outputs.logits\n",
    "        # Apply softmax to get probabilities for each class\n",
    "        probs = torch.nn.functional.softmax(logits, dim=-1)\n",
    "        # We assume class 1 is \"toxic\" and class 0 is \"non-toxic\"\n",
    "        toxicity_score = probs[0][1].item()\n",
    "    return toxicity_score"
   ]
  },
  {
   "cell_type": "markdown",
   "metadata": {},
   "source": [
    "# Function to process data by batches\n",
    "We save only the `index` of the comments and their respective `toxicity_score`."
   ]
  },
  {
   "cell_type": "code",
   "execution_count": null,
   "metadata": {},
   "outputs": [],
   "source": [
    "# Batch processing function\n",
    "def process_in_batches(input_csv, output_csv, chunk_size=1000, skip_rows=0):\n",
    "    batch_number = 1\n",
    "    \n",
    "    # Read the input CSV in chunks, skipping a certain number of rows\n",
    "    with pd.read_csv(input_csv, chunksize=chunk_size, skiprows=range(1, skip_rows + 1)) as reader:\n",
    "        for chunk_idx, chunk in enumerate(reader):\n",
    "            print(f'Processing batch {chunk_idx + 1}...')\n",
    "\n",
    "            # Apply toxicity score calculation for each row in the chunk\n",
    "            chunk['toxicity_score'] = chunk['text'].apply(get_toxicity_score)\n",
    "            \n",
    "            # Save only the 'index' and 'toxicity_score' columns\n",
    "            scores_df = chunk[['index', 'toxicity_score']]\n",
    "            \n",
    "            # Write the result to the output CSV file\n",
    "            if batch_number == 1 and skip_rows == 0:\n",
    "                scores_df.to_csv(output_csv, index=False, mode='w')  # Write header for the first batch\n",
    "            else:\n",
    "                scores_df.to_csv(output_csv, index=False, mode='a', header=False)  # Append mode without header\n",
    "            \n",
    "            batch_number += 1\n",
    "            print(f'Batch {chunk_idx + 1} processed and saved.')"
   ]
  },
  {
   "cell_type": "markdown",
   "metadata": {},
   "source": [
    "# Call the batch processing function"
   ]
  },
  {
   "cell_type": "code",
   "execution_count": null,
   "metadata": {},
   "outputs": [],
   "source": [
    "input_file = '../../combined_data.csv'\n",
    "output_file = '../../hateXplain_scores.csv'\n",
    "process_in_batches(input_file, output_file, chunk_size=500, skip_rows=0)"
   ]
  }
 ],
 "metadata": {
  "kernelspec": {
   "display_name": "Python 3",
   "language": "python",
   "name": "python3"
  },
  "language_info": {
   "codemirror_mode": {
    "name": "ipython",
    "version": 3
   },
   "file_extension": ".py",
   "mimetype": "text/x-python",
   "name": "python",
   "nbconvert_exporter": "python",
   "pygments_lexer": "ipython3",
   "version": "3.9.6"
  }
 },
 "nbformat": 4,
 "nbformat_minor": 2
}
