{
 "cells": [
  {
   "cell_type": "code",
   "execution_count": 3,
   "metadata": {},
   "outputs": [],
   "source": [
    "import numpy as np\n",
    "import pandas as pd"
   ]
  },
  {
   "cell_type": "markdown",
   "metadata": {},
   "source": [
    "# Data Preprocessing"
   ]
  },
  {
   "cell_type": "markdown",
   "metadata": {},
   "source": [
    "To handle the large dataset, read in the data in chunks"
   ]
  },
  {
   "cell_type": "code",
   "execution_count": 17,
   "metadata": {},
   "outputs": [],
   "source": [
    "chunk_size = 10000\n",
    "chunks = pd.read_csv('../data/Reddit-Threads_2020-2021.csv', chunksize=chunk_size)\n",
    "chunks2 = pd.read_csv('../data/Reddit-Threads_2022-2023.csv', chunksize=chunk_size)\n",
    "data_2021 = pd.concat(chunk for chunk in chunks)\n",
    "data_2223 = pd.concat(chunk for chunk in chunks2)\n",
    "combined_data = pd.concat([data_2021, data_2223]).reset_index(drop=True)"
   ]
  },
  {
   "cell_type": "code",
   "execution_count": 18,
   "metadata": {},
   "outputs": [
    {
     "name": "stdout",
     "output_type": "stream",
     "text": [
      "<class 'pandas.core.frame.DataFrame'>\n",
      "RangeIndex: 4938371 entries, 0 to 4938370\n",
      "Data columns (total 9 columns):\n",
      " #   Column        Dtype \n",
      "---  ------        ----- \n",
      " 0   text          object\n",
      " 1   timestamp     object\n",
      " 2   username      object\n",
      " 3   link          object\n",
      " 4   link_id       object\n",
      " 5   parent_id     object\n",
      " 6   id            object\n",
      " 7   subreddit_id  object\n",
      " 8   moderation    object\n",
      "dtypes: object(9)\n",
      "memory usage: 339.1+ MB\n",
      "None\n"
     ]
    }
   ],
   "source": [
    "print(combined_data.info())"
   ]
  },
  {
   "cell_type": "code",
   "execution_count": 19,
   "metadata": {},
   "outputs": [
    {
     "data": {
      "text/html": [
       "<div>\n",
       "<style scoped>\n",
       "    .dataframe tbody tr th:only-of-type {\n",
       "        vertical-align: middle;\n",
       "    }\n",
       "\n",
       "    .dataframe tbody tr th {\n",
       "        vertical-align: top;\n",
       "    }\n",
       "\n",
       "    .dataframe thead th {\n",
       "        text-align: right;\n",
       "    }\n",
       "</style>\n",
       "<table border=\"1\" class=\"dataframe\">\n",
       "  <thead>\n",
       "    <tr style=\"text-align: right;\">\n",
       "      <th></th>\n",
       "      <th>text</th>\n",
       "      <th>timestamp</th>\n",
       "      <th>username</th>\n",
       "      <th>link</th>\n",
       "      <th>link_id</th>\n",
       "      <th>parent_id</th>\n",
       "      <th>id</th>\n",
       "      <th>subreddit_id</th>\n",
       "      <th>moderation</th>\n",
       "    </tr>\n",
       "  </thead>\n",
       "  <tbody>\n",
       "    <tr>\n",
       "      <th>14357</th>\n",
       "      <td>“He who has a why to live for can bear almost ...</td>\n",
       "      <td>NaN</td>\n",
       "      <td>NaN</td>\n",
       "      <td>NaN</td>\n",
       "      <td>NaN</td>\n",
       "      <td>NaN</td>\n",
       "      <td>NaN</td>\n",
       "      <td>NaN</td>\n",
       "      <td>NaN</td>\n",
       "    </tr>\n",
       "    <tr>\n",
       "      <th>14358</th>\n",
       "      <td>“He who has a why to live for can bear almost ...</td>\n",
       "      <td>NaN</td>\n",
       "      <td>NaN</td>\n",
       "      <td>NaN</td>\n",
       "      <td>NaN</td>\n",
       "      <td>NaN</td>\n",
       "      <td>NaN</td>\n",
       "      <td>NaN</td>\n",
       "      <td>NaN</td>\n",
       "    </tr>\n",
       "    <tr>\n",
       "      <th>14359</th>\n",
       "      <td>“He who has a why to live for can bear almost ...</td>\n",
       "      <td>NaN</td>\n",
       "      <td>NaN</td>\n",
       "      <td>NaN</td>\n",
       "      <td>NaN</td>\n",
       "      <td>NaN</td>\n",
       "      <td>NaN</td>\n",
       "      <td>NaN</td>\n",
       "      <td>NaN</td>\n",
       "    </tr>\n",
       "    <tr>\n",
       "      <th>14360</th>\n",
       "      <td>“He who has a why to live for can bear almost ...</td>\n",
       "      <td>NaN</td>\n",
       "      <td>NaN</td>\n",
       "      <td>NaN</td>\n",
       "      <td>NaN</td>\n",
       "      <td>NaN</td>\n",
       "      <td>NaN</td>\n",
       "      <td>NaN</td>\n",
       "      <td>NaN</td>\n",
       "    </tr>\n",
       "    <tr>\n",
       "      <th>14361</th>\n",
       "      <td>“He who has a why to live for can bear almost ...</td>\n",
       "      <td>NaN</td>\n",
       "      <td>NaN</td>\n",
       "      <td>NaN</td>\n",
       "      <td>NaN</td>\n",
       "      <td>NaN</td>\n",
       "      <td>NaN</td>\n",
       "      <td>NaN</td>\n",
       "      <td>NaN</td>\n",
       "    </tr>\n",
       "  </tbody>\n",
       "</table>\n",
       "</div>"
      ],
      "text/plain": [
       "                                                    text timestamp username  \\\n",
       "14357  “He who has a why to live for can bear almost ...       NaN      NaN   \n",
       "14358  “He who has a why to live for can bear almost ...       NaN      NaN   \n",
       "14359  “He who has a why to live for can bear almost ...       NaN      NaN   \n",
       "14360  “He who has a why to live for can bear almost ...       NaN      NaN   \n",
       "14361  “He who has a why to live for can bear almost ...       NaN      NaN   \n",
       "\n",
       "      link link_id parent_id   id subreddit_id moderation  \n",
       "14357  NaN     NaN       NaN  NaN          NaN        NaN  \n",
       "14358  NaN     NaN       NaN  NaN          NaN        NaN  \n",
       "14359  NaN     NaN       NaN  NaN          NaN        NaN  \n",
       "14360  NaN     NaN       NaN  NaN          NaN        NaN  \n",
       "14361  NaN     NaN       NaN  NaN          NaN        NaN  "
      ]
     },
     "execution_count": 19,
     "metadata": {},
     "output_type": "execute_result"
    }
   ],
   "source": [
    "missing_values = combined_data[combined_data.isna().any(axis=1)]\n",
    "missing_values.head()"
   ]
  },
  {
   "cell_type": "code",
   "execution_count": 20,
   "metadata": {},
   "outputs": [],
   "source": [
    "# drop missing values\n",
    "combined_data = combined_data.dropna()"
   ]
  },
  {
   "cell_type": "markdown",
   "metadata": {},
   "source": [
    "Extract `yearmonth` from `timestamp` for temporal analysis"
   ]
  },
  {
   "cell_type": "code",
   "execution_count": 21,
   "metadata": {},
   "outputs": [],
   "source": [
    "combined_data['timestamp'] = pd.to_datetime(combined_data['timestamp'])\n",
    "combined_data['yearmonth'] = combined_data['timestamp'].dt.to_period('M')\n",
    "\n",
    "# order by timestamp\n",
    "combined_data = combined_data.sort_values(by='timestamp').reset_index(drop=True)"
   ]
  },
  {
   "cell_type": "markdown",
   "metadata": {},
   "source": [
    "Extract thread's `title` for each comment"
   ]
  },
  {
   "cell_type": "code",
   "execution_count": 26,
   "metadata": {},
   "outputs": [],
   "source": [
    "combined_data['title'] = combined_data['link'].apply(lambda x: x.split('/')[5] if isinstance(x, str) else None)\n",
    "combined_data['title'] = combined_data['title'].str.replace('_', ' ')"
   ]
  },
  {
   "cell_type": "code",
   "execution_count": 27,
   "metadata": {},
   "outputs": [
    {
     "data": {
      "text/html": [
       "<div>\n",
       "<style scoped>\n",
       "    .dataframe tbody tr th:only-of-type {\n",
       "        vertical-align: middle;\n",
       "    }\n",
       "\n",
       "    .dataframe tbody tr th {\n",
       "        vertical-align: top;\n",
       "    }\n",
       "\n",
       "    .dataframe thead th {\n",
       "        text-align: right;\n",
       "    }\n",
       "</style>\n",
       "<table border=\"1\" class=\"dataframe\">\n",
       "  <thead>\n",
       "    <tr style=\"text-align: right;\">\n",
       "      <th></th>\n",
       "      <th>text</th>\n",
       "      <th>timestamp</th>\n",
       "      <th>username</th>\n",
       "      <th>link</th>\n",
       "      <th>link_id</th>\n",
       "      <th>parent_id</th>\n",
       "      <th>id</th>\n",
       "      <th>subreddit_id</th>\n",
       "      <th>moderation</th>\n",
       "      <th>yearmonth</th>\n",
       "      <th>title</th>\n",
       "    </tr>\n",
       "  </thead>\n",
       "  <tbody>\n",
       "    <tr>\n",
       "      <th>0</th>\n",
       "      <td>SUTD entry requirements is more or less the sa...</td>\n",
       "      <td>2020-01-01 00:00:33</td>\n",
       "      <td>Twrd4321</td>\n",
       "      <td>/r/singapore/comments/eia0ap/sit_suss_or_sutd/...</td>\n",
       "      <td>t3_eia0ap</td>\n",
       "      <td>t1_fcom49y</td>\n",
       "      <td>fconqf5</td>\n",
       "      <td>t5_2qh8c</td>\n",
       "      <td>{'removal_reason': None, 'collapsed': False, '...</td>\n",
       "      <td>2020-01</td>\n",
       "      <td>sit suss or sutd</td>\n",
       "    </tr>\n",
       "    <tr>\n",
       "      <th>1</th>\n",
       "      <td>With jam like this, it's barely worth it.</td>\n",
       "      <td>2020-01-01 00:01:05</td>\n",
       "      <td>557088</td>\n",
       "      <td>/r/singapore/comments/ei5a1u/how_congested_the...</td>\n",
       "      <td>t3_ei5a1u</td>\n",
       "      <td>t1_fcnh5ns</td>\n",
       "      <td>fconrxl</td>\n",
       "      <td>t5_2qh8c</td>\n",
       "      <td>{'removal_reason': None, 'collapsed': False, '...</td>\n",
       "      <td>2020-01</td>\n",
       "      <td>how congested the ecp is on new years day</td>\n",
       "    </tr>\n",
       "    <tr>\n",
       "      <th>2</th>\n",
       "      <td>I outside now, I guess reaching there around 0...</td>\n",
       "      <td>2020-01-01 00:12:57</td>\n",
       "      <td>HeavyArmsJin</td>\n",
       "      <td>/r/singapore/comments/ei8j4h/whats_the_earlies...</td>\n",
       "      <td>t3_ei8j4h</td>\n",
       "      <td>t3_ei8j4h</td>\n",
       "      <td>fcooqwc</td>\n",
       "      <td>t5_2qh8c</td>\n",
       "      <td>{'removal_reason': None, 'collapsed': False, '...</td>\n",
       "      <td>2020-01</td>\n",
       "      <td>whats the earliest timing i can visit the guan</td>\n",
       "    </tr>\n",
       "    <tr>\n",
       "      <th>3</th>\n",
       "      <td>The female or male cry?</td>\n",
       "      <td>2020-01-01 00:12:59</td>\n",
       "      <td>Tempestuous-</td>\n",
       "      <td>/r/singapore/comments/ei9klf/rsingapore_random...</td>\n",
       "      <td>t3_ei9klf</td>\n",
       "      <td>t1_fcohcxx</td>\n",
       "      <td>fcoor03</td>\n",
       "      <td>t5_2qh8c</td>\n",
       "      <td>{'removal_reason': None, 'collapsed': False, '...</td>\n",
       "      <td>2020-01</td>\n",
       "      <td>rsingapore random discussion and small questions</td>\n",
       "    </tr>\n",
       "    <tr>\n",
       "      <th>4</th>\n",
       "      <td>bring an umbrella! it gets really hot during t...</td>\n",
       "      <td>2020-01-01 00:13:37</td>\n",
       "      <td>WiisdomTooth</td>\n",
       "      <td>/r/singapore/comments/ei2z6d/what_is_there_to_...</td>\n",
       "      <td>t3_ei2z6d</td>\n",
       "      <td>t3_ei2z6d</td>\n",
       "      <td>fcoosvb</td>\n",
       "      <td>t5_2qh8c</td>\n",
       "      <td>{'removal_reason': None, 'collapsed': False, '...</td>\n",
       "      <td>2020-01</td>\n",
       "      <td>what is there to prepare for a trip to st johns</td>\n",
       "    </tr>\n",
       "  </tbody>\n",
       "</table>\n",
       "</div>"
      ],
      "text/plain": [
       "                                                text           timestamp  \\\n",
       "0  SUTD entry requirements is more or less the sa... 2020-01-01 00:00:33   \n",
       "1          With jam like this, it's barely worth it. 2020-01-01 00:01:05   \n",
       "2  I outside now, I guess reaching there around 0... 2020-01-01 00:12:57   \n",
       "3                            The female or male cry? 2020-01-01 00:12:59   \n",
       "4  bring an umbrella! it gets really hot during t... 2020-01-01 00:13:37   \n",
       "\n",
       "       username                                               link    link_id  \\\n",
       "0      Twrd4321  /r/singapore/comments/eia0ap/sit_suss_or_sutd/...  t3_eia0ap   \n",
       "1        557088  /r/singapore/comments/ei5a1u/how_congested_the...  t3_ei5a1u   \n",
       "2  HeavyArmsJin  /r/singapore/comments/ei8j4h/whats_the_earlies...  t3_ei8j4h   \n",
       "3  Tempestuous-  /r/singapore/comments/ei9klf/rsingapore_random...  t3_ei9klf   \n",
       "4  WiisdomTooth  /r/singapore/comments/ei2z6d/what_is_there_to_...  t3_ei2z6d   \n",
       "\n",
       "    parent_id       id subreddit_id  \\\n",
       "0  t1_fcom49y  fconqf5     t5_2qh8c   \n",
       "1  t1_fcnh5ns  fconrxl     t5_2qh8c   \n",
       "2   t3_ei8j4h  fcooqwc     t5_2qh8c   \n",
       "3  t1_fcohcxx  fcoor03     t5_2qh8c   \n",
       "4   t3_ei2z6d  fcoosvb     t5_2qh8c   \n",
       "\n",
       "                                          moderation yearmonth  \\\n",
       "0  {'removal_reason': None, 'collapsed': False, '...   2020-01   \n",
       "1  {'removal_reason': None, 'collapsed': False, '...   2020-01   \n",
       "2  {'removal_reason': None, 'collapsed': False, '...   2020-01   \n",
       "3  {'removal_reason': None, 'collapsed': False, '...   2020-01   \n",
       "4  {'removal_reason': None, 'collapsed': False, '...   2020-01   \n",
       "\n",
       "                                              title  \n",
       "0                                  sit suss or sutd  \n",
       "1         how congested the ecp is on new years day  \n",
       "2    whats the earliest timing i can visit the guan  \n",
       "3  rsingapore random discussion and small questions  \n",
       "4   what is there to prepare for a trip to st johns  "
      ]
     },
     "execution_count": 27,
     "metadata": {},
     "output_type": "execute_result"
    }
   ],
   "source": [
    "combined_data.head()"
   ]
  },
  {
   "cell_type": "code",
   "execution_count": 28,
   "metadata": {},
   "outputs": [],
   "source": [
    "combined_data.to_csv('../data/combined_data.csv', index=False)"
   ]
  }
 ],
 "metadata": {
  "kernelspec": {
   "display_name": ".venv",
   "language": "python",
   "name": "python3"
  },
  "language_info": {
   "codemirror_mode": {
    "name": "ipython",
    "version": 3
   },
   "file_extension": ".py",
   "mimetype": "text/x-python",
   "name": "python",
   "nbconvert_exporter": "python",
   "pygments_lexer": "ipython3",
   "version": "3.12.0"
  }
 },
 "nbformat": 4,
 "nbformat_minor": 2
}
