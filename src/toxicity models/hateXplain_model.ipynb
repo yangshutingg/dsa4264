{
  "nbformat": 4,
  "nbformat_minor": 0,
  "metadata": {
    "colab": {
      "provenance": [],
      "gpuType": "T4"
    },
    "kernelspec": {
      "name": "python3",
      "display_name": "Python 3"
    },
    "language_info": {
      "name": "python"
    },
    "accelerator": "GPU"
  },
  "cells": [
    {
      "cell_type": "markdown",
      "source": [
        "# Import Libraries"
      ],
      "metadata": {
        "id": "XZrPB1sW5I0G"
      }
    },
    {
      "cell_type": "code",
      "source": [
        "import pandas as pd\n",
        "from transformers import AutoTokenizer\n",
        "import torch"
      ],
      "metadata": {
        "id": "GfqtsQG942aN"
      },
      "execution_count": null,
      "outputs": []
    },
    {
      "cell_type": "markdown",
      "source": [
        "# File upload (for Colab only)"
      ],
      "metadata": {
        "id": "g2q7xvXf5QiR"
      }
    },
    {
      "cell_type": "code",
      "source": [
        "# uncomment to run on Google Colab\n",
        "# from google.colab import files\n",
        "# uploaded = files.upload()"
      ],
      "metadata": {
        "id": "nlcD3C45Mux-"
      },
      "execution_count": null,
      "outputs": []
    },
    {
      "cell_type": "markdown",
      "source": [
        "# Load HateXplain model\n"
      ],
      "metadata": {
        "id": "-FiiUbYc5iJj"
      }
    },
    {
      "cell_type": "code",
      "source": [
        "from models import *\n",
        "model = Model_Rational_Label.from_pretrained(\"Hate-speech-CNERG/bert-base-uncased-hatexplain-rationale-two\", attn_implementation=\"eager\")"
      ],
      "metadata": {
        "id": "5zHrhcDa7Xfx"
      },
      "execution_count": null,
      "outputs": []
    },
    {
      "cell_type": "markdown",
      "source": [
        "# Load tokenizer from Hugging Face"
      ],
      "metadata": {
        "id": "76I4vOlo5kWP"
      }
    },
    {
      "cell_type": "code",
      "source": [
        "tokenizer = AutoTokenizer.from_pretrained(\"Hate-speech-CNERG/bert-base-uncased-hatexplain-rationale-two\")"
      ],
      "metadata": {
        "id": "ec1-A1z75rLo"
      },
      "execution_count": null,
      "outputs": []
    },
    {
      "cell_type": "markdown",
      "source": [
        "# Function to get toxicity scores"
      ],
      "metadata": {
        "id": "IYCMUw4S71bV"
      }
    },
    {
      "cell_type": "code",
      "source": [
        "# Define a function to get toxicity scores\n",
        "def get_toxicity_score(text):\n",
        "    inputs = tokenizer(text, return_tensors=\"pt\", padding=True, truncation=True)\n",
        "    with torch.no_grad():\n",
        "        logits,_ = model(input_ids=inputs['input_ids'],attention_mask=inputs['attention_mask'])\n",
        "        # Apply softmax to get probabilities for each class\n",
        "        probs = torch.nn.functional.softmax(logits, dim=-1)\n",
        "        # We assume class 1 is \"toxic\" and class 0 is \"non-toxic\"\n",
        "        toxicity_score = probs[0][1].item()\n",
        "    return toxicity_score"
      ],
      "metadata": {
        "id": "OOrYLS3f75wr"
      },
      "execution_count": null,
      "outputs": []
    },
    {
      "cell_type": "markdown",
      "source": [
        "# Function to process data by batches\n",
        "We save only the `index` of the comments and their respective `toxicity_score`."
      ],
      "metadata": {
        "id": "3UlC70237--D"
      }
    },
    {
      "cell_type": "code",
      "execution_count": null,
      "metadata": {
        "id": "QSvoW7iZ4hRE"
      },
      "outputs": [],
      "source": [
        "# Batch processing function\n",
        "def process_in_batches(input_csv, output_csv, chunk_size=1000, skip_rows=0):\n",
        "    batch_number = 1\n",
        "\n",
        "    # Read the input CSV in chunks, skipping a certain number of rows\n",
        "    with pd.read_csv(input_csv, chunksize=chunk_size, skiprows=range(1, skip_rows + 1)) as reader:\n",
        "        for chunk_idx, chunk in enumerate(reader):\n",
        "            print(f'Processing batch {chunk_idx + 1}...')\n",
        "\n",
        "            # Apply toxicity score calculation for each row in the chunk\n",
        "            chunk['toxicity_score'] = chunk['text'].apply(get_toxicity_score)\n",
        "\n",
        "            # Save only the 'index' and 'toxicity_score' columns\n",
        "            scores_df = chunk[['index', 'toxicity_score']]\n",
        "\n",
        "            # Write the result to the output CSV file\n",
        "            if batch_number == 1 and skip_rows == 0:\n",
        "                scores_df.to_csv(output_csv, index=False, mode='w')  # Write header for the first batch\n",
        "            else:\n",
        "                scores_df.to_csv(output_csv, index=False, mode='a', header=False)  # Append mode without header\n",
        "\n",
        "            batch_number += 1\n",
        "            print(f'Batch {chunk_idx + 1} processed and saved.')"
      ]
    },
    {
      "cell_type": "markdown",
      "source": [
        "# Check current directory"
      ],
      "metadata": {
        "id": "jhK5ny-m8DfU"
      }
    },
    {
      "cell_type": "code",
      "source": [
        "import os\n",
        "print(os.getcwd())\n",
        "items = os.listdir(os.getcwd())\n",
        "print(items)"
      ],
      "metadata": {
        "id": "Sh7loF0NLrTx"
      },
      "execution_count": null,
      "outputs": []
    },
    {
      "cell_type": "markdown",
      "source": [
        "# Import Dataset (for Colab only)"
      ],
      "metadata": {
        "id": "F8QKabrR6Hmg"
      }
    },
    {
      "cell_type": "code",
      "source": [
        "# mount to google drive containing the dataset\n",
        "from google.colab import drive\n",
        "drive.mount('/content/drive')"
      ],
      "metadata": {
        "id": "v-FOwad2ViQj"
      },
      "execution_count": null,
      "outputs": []
    },
    {
      "cell_type": "markdown",
      "source": [
        "# Call the batch processing function"
      ],
      "metadata": {
        "id": "8QgiICqy6dEM"
      }
    },
    {
      "cell_type": "code",
      "source": [
        "input_file = 'drive/MyDrive/dsa4264/combined_data.csv'\n",
        "output_file = 'drive/MyDrive/dsa4264/hateXplain_scores.csv'\n",
        "process_in_batches(input_file, output_file, chunk_size=500, skip_rows=0)"
      ],
      "metadata": {
        "id": "Rwp-lYSy8COW"
      },
      "execution_count": null,
      "outputs": []
    }
  ]
}