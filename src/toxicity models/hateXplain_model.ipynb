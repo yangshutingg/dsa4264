{
 "cells": [
  {
   "cell_type": "markdown",
   "metadata": {
    "id": "XZrPB1sW5I0G"
   },
   "source": [
    "# Import Libraries"
   ]
  },
  {
   "cell_type": "code",
   "execution_count": null,
   "metadata": {
    "id": "GfqtsQG942aN"
   },
   "outputs": [],
   "source": [
    "import pandas as pd\n",
    "from transformers import AutoTokenizer\n",
    "import torch"
   ]
  },
  {
   "cell_type": "markdown",
   "metadata": {
    "id": "g2q7xvXf5QiR"
   },
   "source": [
    "# File upload (for Colab only)"
   ]
  },
  {
   "cell_type": "code",
   "execution_count": null,
   "metadata": {
    "id": "nlcD3C45Mux-"
   },
   "outputs": [],
   "source": [
    "# uncomment to run on Google Colab\n",
    "# from google.colab import files\n",
    "# uploaded = files.upload()"
   ]
  },
  {
   "cell_type": "markdown",
   "metadata": {
    "id": "-FiiUbYc5iJj"
   },
   "source": [
    "# Load HateXplain model\n"
   ]
  },
  {
   "cell_type": "code",
   "execution_count": null,
   "metadata": {
    "id": "5zHrhcDa7Xfx"
   },
   "outputs": [],
   "source": [
    "# from models import *\n",
    "model = Model_Rational_Label.from_pretrained(\"Hate-speech-CNERG/bert-base-uncased-hatexplain-rationale-two\", attn_implementation=\"eager\")"
   ]
  },
  {
   "cell_type": "markdown",
   "metadata": {
    "id": "76I4vOlo5kWP"
   },
   "source": [
    "# Load tokenizer from Hugging Face"
   ]
  },
  {
   "cell_type": "code",
   "execution_count": null,
   "metadata": {
    "id": "ec1-A1z75rLo"
   },
   "outputs": [],
   "source": [
    "tokenizer = AutoTokenizer.from_pretrained(\"Hate-speech-CNERG/bert-base-uncased-hatexplain-rationale-two\")"
   ]
  },
  {
   "cell_type": "markdown",
   "metadata": {
    "id": "IYCMUw4S71bV"
   },
   "source": [
    "# Function to get toxicity scores"
   ]
  },
  {
   "cell_type": "code",
   "execution_count": null,
   "metadata": {
    "id": "OOrYLS3f75wr"
   },
   "outputs": [],
   "source": [
    "# Define a function to get toxicity scores\n",
    "def get_toxicity_score(text):\n",
    "    inputs = tokenizer(text, return_tensors=\"pt\", padding=True, truncation=True)\n",
    "    with torch.no_grad():\n",
    "        logits,_ = model(input_ids=inputs['input_ids'],attention_mask=inputs['attention_mask'])\n",
    "        # Apply softmax to get probabilities for each class\n",
    "        probs = torch.nn.functional.softmax(logits, dim=-1)\n",
    "        # We assume class 1 is \"toxic\" and class 0 is \"non-toxic\"\n",
    "        toxicity_score = probs[0][1].item()\n",
    "    return toxicity_score"
   ]
  },
  {
   "cell_type": "markdown",
   "metadata": {
    "id": "3UlC70237--D"
   },
   "source": [
    "# Function to process data by batches\n",
    "We save only the `index` of the comments and their respective `toxicity_score`."
   ]
  },
  {
   "cell_type": "code",
   "execution_count": null,
   "metadata": {
    "id": "QSvoW7iZ4hRE"
   },
   "outputs": [],
   "source": [
    "# Batch processing function\n",
    "def process_in_batches(input_csv, output_csv, chunk_size=1000, skip_rows=0):\n",
    "    batch_number = 1\n",
    "\n",
    "    # Read the input CSV in chunks, skipping a certain number of rows\n",
    "    with pd.read_csv(input_csv, chunksize=chunk_size, skiprows=range(1, skip_rows + 1)) as reader:\n",
    "        for chunk_idx, chunk in enumerate(reader):\n",
    "            print(f'Processing batch {chunk_idx + 1}...')\n",
    "\n",
    "            # Apply toxicity score calculation for each row in the chunk\n",
    "            chunk['toxicity_score'] = chunk['text'].apply(get_toxicity_score)\n",
    "\n",
    "            # Save only the 'index' and 'toxicity_score' columns\n",
    "            scores_df = chunk[['index', 'toxicity_score']]\n",
    "\n",
    "            # Write the result to the output CSV file\n",
    "            if batch_number == 1 and skip_rows == 0:\n",
    "                scores_df.to_csv(output_csv, index=False, mode='w')  # Write header for the first batch\n",
    "            else:\n",
    "                scores_df.to_csv(output_csv, index=False, mode='a', header=False)  # Append mode without header\n",
    "\n",
    "            batch_number += 1\n",
    "            print(f'Batch {chunk_idx + 1} processed and saved.')"
   ]
  },
  {
   "cell_type": "markdown",
   "metadata": {
    "id": "jhK5ny-m8DfU"
   },
   "source": [
    "# Check current directory"
   ]
  },
  {
   "cell_type": "code",
   "execution_count": null,
   "metadata": {
    "id": "Sh7loF0NLrTx"
   },
   "outputs": [],
   "source": [
    "import os\n",
    "print(os.getcwd())\n",
    "items = os.listdir(os.getcwd())\n",
    "print(items)"
   ]
  },
  {
   "cell_type": "markdown",
   "metadata": {
    "id": "F8QKabrR6Hmg"
   },
   "source": [
    "# Import Dataset (for Colab only)"
   ]
  },
  {
   "cell_type": "code",
   "execution_count": null,
   "metadata": {
    "id": "v-FOwad2ViQj"
   },
   "outputs": [],
   "source": [
    "# mount to google drive containing the dataset\n",
    "from google.colab import drive\n",
    "drive.mount('/content/drive')"
   ]
  },
  {
   "cell_type": "markdown",
   "metadata": {
    "id": "8QgiICqy6dEM"
   },
   "source": [
    "# Call the batch processing function"
   ]
  },
  {
   "cell_type": "code",
   "execution_count": null,
   "metadata": {
    "id": "Rwp-lYSy8COW"
   },
   "outputs": [],
   "source": [
    "input_file = '../../data/combined_data.csv'\n",
    "output_file = '../../data/hateXplain_scores.csv'\n",
    "process_in_batches(input_file, output_file, chunk_size=500, skip_rows=0)"
   ]
  }
 ],
 "metadata": {
  "accelerator": "GPU",
  "colab": {
   "gpuType": "T4",
   "provenance": []
  },
  "kernelspec": {
   "display_name": "Python 3",
   "name": "python3"
  },
  "language_info": {
   "name": "python",
   "version": "3.9.6"
  }
 },
 "nbformat": 4,
 "nbformat_minor": 0
}
